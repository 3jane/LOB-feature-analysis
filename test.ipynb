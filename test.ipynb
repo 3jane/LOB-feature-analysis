{
 "cells": [
  {
   "cell_type": "code",
   "execution_count": 2,
   "id": "67166c43-2f2f-4a4b-96a4-80249a46a0b1",
   "metadata": {},
   "outputs": [],
   "source": [
    "from tqdm import tqdm\n",
    "import pandas as pd\n",
    "import numpy as np\n",
    "import db_lob as lob"
   ]
  },
  {
   "cell_type": "code",
   "execution_count": 3,
   "id": "a1fb93a7-8730-4579-8bca-a0e2e1a1fc05",
   "metadata": {},
   "outputs": [
    {
     "name": "stdout",
     "output_type": "stream",
     "text": [
      "Reading messages...\n",
      "Messages read!\n"
     ]
    }
   ],
   "source": [
    "# Step 1: load a list of messages\n",
    "messages_file_path = '2505133.csv'\n",
    "print(\"Reading messages...\")\n",
    "messages = lob.parse_FullMessages(messages_file_path)\n",
    "print(\"Messages read!\")"
   ]
  },
  {
   "cell_type": "code",
   "execution_count": 4,
   "id": "d832e2c6-2085-4319-a0df-2b39dec8bd77",
   "metadata": {},
   "outputs": [],
   "source": [
    "# book\n",
    "volume_threshold = 1000000\n",
    "ticksize = 0.0001\n",
    "book = lob.LimitOrderBook(volume_threshold, ticksize)"
   ]
  },
  {
   "cell_type": "code",
   "execution_count": 35,
   "id": "771eb58e",
   "metadata": {},
   "outputs": [
    {
     "name": "stderr",
     "output_type": "stream",
     "text": [
      "Reconstructing the book: 100%|████████| 824460/824460 [01:36<00:00, 8529.81it/s]\n"
     ]
    }
   ],
   "source": [
    "# Step 3: loop over the messages and feed them to the lob\n",
    "# Just for testing, let's just look at the first N% messages.\n",
    "pct = 0.5\n",
    "n_msg = int(len(messages) * pct)\n",
    "for msg in tqdm(messages[:n_msg], desc=\"Reconstructing the book\"):\n",
    "    maybe_bars = book.generic_incremental_update(msg)\n",
    "\n",
    "    if maybe_bars is not None:\n",
    "        vbars = pd.DataFrame.from_records(maybe_bars[0])\n",
    "        fbars = pd.DataFrame.from_records(maybe_bars[1])"
   ]
  },
  {
   "cell_type": "code",
   "execution_count": 21,
   "id": "5f785ce5-d7a2-4861-9719-417b552b80bf",
   "metadata": {},
   "outputs": [
    {
     "data": {
      "text/plain": [
       "PriceLevel(price=15558000000, totalVolume=700000)"
      ]
     },
     "execution_count": 21,
     "metadata": {},
     "output_type": "execute_result"
    }
   ],
   "source": [
    "ask_side, bid_side = book.askTree, book.bidTree\n",
    "a = list(ask_side.values())\n",
    "a[0]"
   ]
  },
  {
   "cell_type": "code",
   "execution_count": 32,
   "id": "4571e156",
   "metadata": {},
   "outputs": [],
   "source": [
    "def df_from_book(book):\n",
    "    import pandas as pd\n",
    "    ask_side, bid_side = book.askTree, book.bidTree\n",
    "    a = list(ask_side.values())\n",
    "    b = list(bid_side.values())\n",
    "    ask_price, bid_price, ask_volume, bid_volume = [], [], [], []\n",
    "    for ask, bid in zip(a,b):\n",
    "        ask_price.append(ask.price)\n",
    "        bid_price.append(bid.price)\n",
    "        ask_volume.append(ask.totalVolume)\n",
    "        bid_volume.append(bid.totalVolume)\n",
    "    df = pd.DataFrame(ask_volume, columns=['ask_volume'])\n",
    "    df['ask_price'] = ask_price\n",
    "    df['bid_volume'] = bid_volume\n",
    "    df['bid_price'] = bid_price\n",
    "    return df"
   ]
  },
  {
   "cell_type": "code",
   "execution_count": 33,
   "id": "f02b6b24-db77-49ab-b0f7-0861ebfb7b92",
   "metadata": {},
   "outputs": [],
   "source": [
    "df = df_from_book(book)\n",
    "import os\n",
    "dir = 'data_cleaned'\n",
    "if os.path.isdir(dir)==False:\n",
    "        os.mkdir(dir)\n",
    "df.to_csv(dir+'/LOB.csv', index=False)"
   ]
  },
  {
   "cell_type": "code",
   "execution_count": null,
   "id": "3e550803-febc-4277-baa7-40486012c180",
   "metadata": {},
   "outputs": [],
   "source": []
  }
 ],
 "metadata": {
  "kernelspec": {
   "display_name": "project",
   "language": "python",
   "name": "project"
  },
  "language_info": {
   "codemirror_mode": {
    "name": "ipython",
    "version": 3
   },
   "file_extension": ".py",
   "mimetype": "text/x-python",
   "name": "python",
   "nbconvert_exporter": "python",
   "pygments_lexer": "ipython3",
   "version": "3.9.7"
  }
 },
 "nbformat": 4,
 "nbformat_minor": 5
}
