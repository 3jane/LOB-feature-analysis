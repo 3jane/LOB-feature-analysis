{
 "cells": [
  {
   "cell_type": "code",
   "execution_count": 1,
   "id": "ba6733e7-d6d8-498a-bb06-964e013b07d1",
   "metadata": {},
   "outputs": [],
   "source": [
    "import db_lob"
   ]
  },
  {
   "cell_type": "code",
   "execution_count": null,
   "id": "8748e667-8c2b-4a0c-bb55-19606dbfd560",
   "metadata": {},
   "outputs": [],
   "source": []
  }
 ],
 "metadata": {
  "kernelspec": {
   "display_name": "project",
   "language": "python",
   "name": "project"
  },
  "language_info": {
   "codemirror_mode": {
    "name": "ipython",
    "version": 3
   },
   "file_extension": ".py",
   "mimetype": "text/x-python",
   "name": "python",
   "nbconvert_exporter": "python",
   "pygments_lexer": "ipython3",
   "version": "3.9.7"
  }
 },
 "nbformat": 4,
 "nbformat_minor": 5
}
