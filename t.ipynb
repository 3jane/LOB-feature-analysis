{
 "cells": [
  {
   "cell_type": "code",
   "execution_count": null,
   "metadata": {},
   "outputs": [],
   "source": [
    "import db_lob as lob\n",
    "import numpy as np"
   ]
  },
  {
   "cell_type": "code",
   "execution_count": null,
   "metadata": {},
   "outputs": [],
   "source": [
    "# Step 1: load a list of messages\n",
    "messages_file_path = '2505133.csv'\n",
    "print(\"Reading messages...\")\n",
    "messages = lob.parse_FullMessages(messages_file_path)\n",
    "print(\"Messages read!\")\n",
    "# book\n",
    "volume_threshold = 1000000\n",
    "ticksize = 0.0001\n",
    "book = lob.LimitOrderBook(volume_threshold, ticksize)"
   ]
  },
  {
   "cell_type": "code",
   "execution_count": null,
   "metadata": {},
   "outputs": [],
   "source": [
    "print(book)"
   ]
  }
 ],
 "metadata": {
  "interpreter": {
   "hash": "d929db8e7c4926c064d31fcaad3c7418964e49e085199896c64ddb1751e6ed38"
  },
  "kernelspec": {
   "display_name": "Python 3.9.7 64-bit ('proj': conda)",
   "language": "python",
   "name": "python3"
  },
  "language_info": {
   "codemirror_mode": {
    "name": "ipython",
    "version": 3
   },
   "file_extension": ".py",
   "mimetype": "text/x-python",
   "name": "python",
   "nbconvert_exporter": "python",
   "pygments_lexer": "ipython3",
   "version": "3.9.7"
  },
  "orig_nbformat": 4
 },
 "nbformat": 4,
 "nbformat_minor": 2
}
