{
 "cells": [
  {
   "cell_type": "code",
   "execution_count": 89,
   "metadata": {},
   "outputs": [],
   "source": [
    "import pandas as pd\n",
    "import numpy as np\n",
    "import matplotlib.pyplot as plt"
   ]
  },
  {
   "cell_type": "code",
   "execution_count": 95,
   "metadata": {},
   "outputs": [],
   "source": [
    "def likelihood(x, bid, ask, T): #x = [alpha, delta, eps, mu]\n",
    "    \"\"\"\n",
    "    likelihood function for the model\n",
    "    args:\n",
    "        x: parameters of the model\n",
    "        bid: observation of the bid side\n",
    "        ask: observation of the ask side\n",
    "        T: time bins\n",
    "    \"\"\"\n",
    "    #compute likelihood with Ealsy's (15) notation\n",
    "    from scipy.stats import poisson\n",
    "    likelihood = (1-x[0])*poisson.pmf(k=bid,mu=x[2]*T)*poisson.pmf(k=ask,mu=x[2]*T)+\\\n",
    "                +x[0]*x[1]*poisson.pmf(k=bid,mu=x[2]*T)*poisson.pmf(k=ask,mu=(x[2]+x[3])*T)+\\\n",
    "                +x[0]*(1-x[1])*poisson.pmf(k=bid,mu=(x[2]+x[3])*T)*poisson.pmf(k=ask,mu=x[2]*T)\n",
    "    return likelihood\n",
    "\n",
    "def loss (x, bid, ask, T):\n",
    "    \"\"\"\n",
    "    loss function for the model\n",
    "    args:\n",
    "        x: parameters of the model (to train)\n",
    "        bid: list of observations of the bid side\n",
    "        ask: list of observations of the ask side\n",
    "        T: time bin width (assumed the same for each bin)\n",
    "    \"\"\"\n",
    "    prod=[]\n",
    "    #restricting the loss function to values which do not kill the output\n",
    "    for b, a in zip(bid, ask):\n",
    "        l=likelihood(x, b, a, T)\n",
    "        if l>0: prod.append(l)\n",
    "        else: continue\n",
    "    return -np.prod(prod)"
   ]
  },
  {
   "cell_type": "code",
   "execution_count": 110,
   "metadata": {},
   "outputs": [],
   "source": [
    "from scipy.optimize import minimize\n",
    "from tqdm import tqdm\n",
    "from datetime import timedelta\n",
    "time_delta = timedelta(minutes=1)\n",
    "\n",
    "occurrences = pd.read_csv(\"../data_cleaned/occurrences.csv\")\n",
    "np.random.seed(0)\n",
    "r=minimize(loss, x0=np.random.uniform(size=4),#\n",
    "                args=(occurrences['bid_observations'], occurrences['ask_observations'], time_delta.total_seconds()),\n",
    "                method='trust-constr', bounds=[(0, 1), (0, 1), (0, None), (0, None)])"
   ]
  },
  {
   "cell_type": "code",
   "execution_count": 108,
   "metadata": {},
   "outputs": [
    {
     "name": "stdout",
     "output_type": "stream",
     "text": [
      "PIN: 0.26\n",
      "alpha: 0.71\n",
      "delta: 0.71\n",
      "eps: 0.71\n",
      "mu: 0.71\n"
     ]
    }
   ],
   "source": [
    "params = {'alpha': r.x[0], 'delta': r.x[0], 'eps': r.x[0], 'mu': r.x[0]}\n",
    "PIN = params['alpha']*params['mu']/(params['alpha']*params['mu']+2*params['eps'])\n",
    "\n",
    "print('PIN: {:.2f}'.format(PIN))\n",
    "print('alpha: {:.2f}'.format(params['alpha']))\n",
    "print('delta: {:.2f}'.format(params['delta']))\n",
    "print('eps: {:.2f}'.format(params['eps']))\n",
    "print('mu: {:.2f}'.format(params['mu']))"
   ]
  },
  {
   "cell_type": "code",
   "execution_count": null,
   "metadata": {},
   "outputs": [],
   "source": []
  }
 ],
 "metadata": {
  "interpreter": {
   "hash": "18d52c8ed671898ef8933058dd13604df3989d986c9ab74e47e71b13bd58768e"
  },
  "kernelspec": {
   "display_name": "Python 3.9.7 64-bit ('base': conda)",
   "language": "python",
   "name": "python3"
  },
  "language_info": {
   "codemirror_mode": {
    "name": "ipython",
    "version": 3
   },
   "file_extension": ".py",
   "mimetype": "text/x-python",
   "name": "python",
   "nbconvert_exporter": "python",
   "pygments_lexer": "ipython3",
   "version": "3.8.5"
  },
  "orig_nbformat": 4
 },
 "nbformat": 4,
 "nbformat_minor": 2
}
