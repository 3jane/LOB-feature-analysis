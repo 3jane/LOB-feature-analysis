{
 "cells": [
  {
   "cell_type": "code",
   "execution_count": 8,
   "metadata": {},
   "outputs": [],
   "source": [
    "import pandas as pd\n",
    "import numpy as np\n",
    "import matplotlib.pyplot as plt"
   ]
  },
  {
   "cell_type": "code",
   "execution_count": 9,
   "metadata": {},
   "outputs": [],
   "source": [
    "def likelihood(x, bid, ask, T): #x = [alpha, delta, eps, mu]\n",
    "    \"\"\"\n",
    "    likelihood function for the model\n",
    "    args:\n",
    "        x: parameters of the model\n",
    "        bid: observation of the bid side\n",
    "        ask: observation of the ask side\n",
    "        T: time bins\n",
    "    \"\"\"\n",
    "    #compute likelihood with Ealsy's (15) notation\n",
    "    from scipy.stats import poisson\n",
    "    likelihood = (1-x[0])*poisson.pmf(k=bid,mu=x[2]*T)*poisson.pmf(k=ask,mu=x[2]*T)+\\\n",
    "                +x[0]*x[1]*poisson.pmf(k=bid,mu=x[2]*T)*poisson.pmf(k=ask,mu=(x[2]+x[3])*T)+\\\n",
    "                +x[0]*(1-x[1])*poisson.pmf(k=bid,mu=(x[2]+x[3])*T)*poisson.pmf(k=ask,mu=x[2]*T)\n",
    "    return likelihood\n",
    "\n",
    "def loss (x, bid, ask, T):\n",
    "    \"\"\"\n",
    "    loss function for the model\n",
    "    args:\n",
    "        x: parameters of the model (to train)\n",
    "        bid: list of observations of the bid side\n",
    "        ask: list of observations of the ask side\n",
    "        T: time bin width (assumed the same for each bin)\n",
    "    \"\"\"\n",
    "    prod=[]\n",
    "    #restricting the loss function to values which do not kill the output\n",
    "    for b, a in zip(bid, ask):\n",
    "        l=likelihood(x, b, a, T)\n",
    "        if l>0: prod.append(l)\n",
    "        else: continue\n",
    "    return -np.prod(prod)"
   ]
  },
  {
   "cell_type": "code",
   "execution_count": 10,
   "metadata": {},
   "outputs": [
    {
     "name": "stderr",
     "output_type": "stream",
     "text": [
      "Optimizing with different methods:   0%|          | 0/7 [00:00<?, ?it/s]/opt/anaconda3/envs/myenv/lib/python3.8/site-packages/scipy/optimize/_minimize.py:535: RuntimeWarning: Method Nelder-Mead cannot handle constraints nor bounds.\n",
      "  warn('Method %s cannot handle constraints nor bounds.' % method,\n",
      "Optimizing with different methods:  29%|██▊       | 2/7 [00:37<01:28, 17.62s/it]/opt/anaconda3/envs/myenv/lib/python3.8/site-packages/scipy/optimize/_minimize.py:535: RuntimeWarning: Method CG cannot handle constraints nor bounds.\n",
      "  warn('Method %s cannot handle constraints nor bounds.' % method,\n",
      "Optimizing with different methods:  43%|████▎     | 3/7 [00:39<00:51, 12.81s/it]/opt/anaconda3/envs/myenv/lib/python3.8/site-packages/scipy/optimize/_minimize.py:535: RuntimeWarning: Method BFGS cannot handle constraints nor bounds.\n",
      "  warn('Method %s cannot handle constraints nor bounds.' % method,\n",
      "Optimizing with different methods: 100%|██████████| 7/7 [00:45<00:00,  6.48s/it]\n"
     ]
    }
   ],
   "source": [
    "from scipy.optimize import minimize\n",
    "from tqdm import tqdm\n",
    "from datetime import timedelta\n",
    "time_delta = timedelta(minutes=1)\n",
    "\n",
    "occurrences = pd.read_csv(\"../data_cleaned/occurrences.csv\")\n",
    "methods = ['Nelder-Mead', 'Powell', 'CG', 'BFGS','L-BFGS-B', 'TNC', 'SLSQP']\n",
    "params = []\n",
    "for m in tqdm(methods, desc='Optimizing with different methods'):\n",
    "        r=minimize(loss, x0=np.random.uniform(size=4), \n",
    "                args=(occurrences['bid_observations'], occurrences['ask_observations'], time_delta.total_seconds()),\n",
    "                method=m, bounds=[(0, 1) for i in range(4)])\n",
    "        params.append(r.x)\n",
    "optimization_result = pd.DataFrame(params, columns=['alpha', 'delta', 'eps', 'mu'])\n",
    "optimization_result['method'] = methods"
   ]
  },
  {
   "cell_type": "code",
   "execution_count": 11,
   "metadata": {},
   "outputs": [],
   "source": [
    "optimization_result['PIN'] = optimization_result.apply(lambda x: x['alpha']*x['mu']/(x['alpha']*x['mu']+2*x['eps']), axis=1)"
   ]
  },
  {
   "cell_type": "code",
   "execution_count": 12,
   "metadata": {},
   "outputs": [
    {
     "data": {
      "text/html": [
       "<div>\n",
       "<style scoped>\n",
       "    .dataframe tbody tr th:only-of-type {\n",
       "        vertical-align: middle;\n",
       "    }\n",
       "\n",
       "    .dataframe tbody tr th {\n",
       "        vertical-align: top;\n",
       "    }\n",
       "\n",
       "    .dataframe thead th {\n",
       "        text-align: right;\n",
       "    }\n",
       "</style>\n",
       "<table border=\"1\" class=\"dataframe\">\n",
       "  <thead>\n",
       "    <tr style=\"text-align: right;\">\n",
       "      <th></th>\n",
       "      <th>alpha</th>\n",
       "      <th>delta</th>\n",
       "      <th>eps</th>\n",
       "      <th>mu</th>\n",
       "      <th>method</th>\n",
       "      <th>PIN</th>\n",
       "    </tr>\n",
       "  </thead>\n",
       "  <tbody>\n",
       "    <tr>\n",
       "      <th>0</th>\n",
       "      <td>0.663389</td>\n",
       "      <td>0.629576</td>\n",
       "      <td>0.816470</td>\n",
       "      <td>0.489969</td>\n",
       "      <td>Nelder-Mead</td>\n",
       "      <td>0.166008</td>\n",
       "    </tr>\n",
       "    <tr>\n",
       "      <th>1</th>\n",
       "      <td>0.999934</td>\n",
       "      <td>0.999934</td>\n",
       "      <td>0.999934</td>\n",
       "      <td>0.999934</td>\n",
       "      <td>Powell</td>\n",
       "      <td>0.333319</td>\n",
       "    </tr>\n",
       "    <tr>\n",
       "      <th>2</th>\n",
       "      <td>0.183489</td>\n",
       "      <td>0.774928</td>\n",
       "      <td>0.481974</td>\n",
       "      <td>0.238476</td>\n",
       "      <td>CG</td>\n",
       "      <td>0.043423</td>\n",
       "    </tr>\n",
       "    <tr>\n",
       "      <th>3</th>\n",
       "      <td>0.096949</td>\n",
       "      <td>0.286280</td>\n",
       "      <td>0.743172</td>\n",
       "      <td>0.842129</td>\n",
       "      <td>BFGS</td>\n",
       "      <td>0.052069</td>\n",
       "    </tr>\n",
       "    <tr>\n",
       "      <th>4</th>\n",
       "      <td>0.882825</td>\n",
       "      <td>0.644999</td>\n",
       "      <td>0.142026</td>\n",
       "      <td>0.468985</td>\n",
       "      <td>L-BFGS-B</td>\n",
       "      <td>0.593097</td>\n",
       "    </tr>\n",
       "    <tr>\n",
       "      <th>5</th>\n",
       "      <td>0.354467</td>\n",
       "      <td>0.245100</td>\n",
       "      <td>0.068829</td>\n",
       "      <td>0.530597</td>\n",
       "      <td>TNC</td>\n",
       "      <td>0.577395</td>\n",
       "    </tr>\n",
       "    <tr>\n",
       "      <th>6</th>\n",
       "      <td>0.600453</td>\n",
       "      <td>0.857963</td>\n",
       "      <td>0.560459</td>\n",
       "      <td>0.635793</td>\n",
       "      <td>SLSQP</td>\n",
       "      <td>0.254055</td>\n",
       "    </tr>\n",
       "  </tbody>\n",
       "</table>\n",
       "</div>"
      ],
      "text/plain": [
       "      alpha     delta       eps        mu       method       PIN\n",
       "0  0.663389  0.629576  0.816470  0.489969  Nelder-Mead  0.166008\n",
       "1  0.999934  0.999934  0.999934  0.999934       Powell  0.333319\n",
       "2  0.183489  0.774928  0.481974  0.238476           CG  0.043423\n",
       "3  0.096949  0.286280  0.743172  0.842129         BFGS  0.052069\n",
       "4  0.882825  0.644999  0.142026  0.468985     L-BFGS-B  0.593097\n",
       "5  0.354467  0.245100  0.068829  0.530597          TNC  0.577395\n",
       "6  0.600453  0.857963  0.560459  0.635793        SLSQP  0.254055"
      ]
     },
     "execution_count": 12,
     "metadata": {},
     "output_type": "execute_result"
    }
   ],
   "source": [
    "import os \n",
    "if os.path.isdir('../results')==False:\n",
    "    os.mkdir('../results')\n",
    "optimization_result.to_csv('../results/optimization_result.csv', index=False)\n",
    "optimization_result"
   ]
  },
  {
   "cell_type": "code",
   "execution_count": null,
   "metadata": {},
   "outputs": [],
   "source": []
  }
 ],
 "metadata": {
  "interpreter": {
   "hash": "18d52c8ed671898ef8933058dd13604df3989d986c9ab74e47e71b13bd58768e"
  },
  "kernelspec": {
   "display_name": "Python 3.9.7 64-bit ('base': conda)",
   "language": "python",
   "name": "python3"
  },
  "language_info": {
   "codemirror_mode": {
    "name": "ipython",
    "version": 3
   },
   "file_extension": ".py",
   "mimetype": "text/x-python",
   "name": "python",
   "nbconvert_exporter": "python",
   "pygments_lexer": "ipython3",
   "version": "3.8.5"
  },
  "orig_nbformat": 4
 },
 "nbformat": 4,
 "nbformat_minor": 2
}
